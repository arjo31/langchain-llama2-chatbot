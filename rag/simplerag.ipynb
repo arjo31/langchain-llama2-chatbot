{
 "cells": [
  {
   "cell_type": "code",
   "execution_count": 2,
   "metadata": {},
   "outputs": [],
   "source": [
    "#Data Ingestion\n",
    "from langchain_community.document_loaders import TextLoader, WebBaseLoader, PyPDFLoader"
   ]
  },
  {
   "cell_type": "code",
   "execution_count": 3,
   "metadata": {},
   "outputs": [],
   "source": [
    "loader = TextLoader('speech.txt')\n",
    "text_doc = loader.load()"
   ]
  },
  {
   "cell_type": "code",
   "execution_count": 4,
   "metadata": {},
   "outputs": [
    {
     "data": {
      "text/plain": [
       "True"
      ]
     },
     "execution_count": 4,
     "metadata": {},
     "output_type": "execute_result"
    }
   ],
   "source": [
    "import os\n",
    "from dotenv import load_dotenv\n",
    "load_dotenv()"
   ]
  },
  {
   "cell_type": "code",
   "execution_count": 5,
   "metadata": {},
   "outputs": [],
   "source": [
    "os.environ[\"LANGCHAIN_API_KEY\"] = os.getenv(\"LANGCHAIN_API_KEY\")"
   ]
  },
  {
   "cell_type": "code",
   "execution_count": 6,
   "metadata": {},
   "outputs": [],
   "source": [
    "loader = PyPDFLoader('FD.pdf')"
   ]
  },
  {
   "cell_type": "code",
   "execution_count": 7,
   "metadata": {},
   "outputs": [],
   "source": [
    "pdf_doc = loader.load()"
   ]
  },
  {
   "cell_type": "code",
   "execution_count": 8,
   "metadata": {},
   "outputs": [
    {
     "data": {
      "text/plain": [
       "[Document(page_content='Normalization  \\n91.2914  1 Normalization  \\nWe discuss four normal forms: first, second, third, and \\nBoyce -Codd normal forms  \\n1NF, 2NF, 3NF, and BCNF  \\n \\nNormalization  is a process that “improves” a database \\ndesign by generating relations that are of higher normal \\nforms.  \\n \\nThe objective  of normalization:  \\n“to create relations where every dependency is on the key, \\nthe whole key, and nothing but the key ”. \\n ', metadata={'source': 'FD.pdf', 'page': 0}),\n",
       " Document(page_content='Normalization  \\n91.2914  2 There is a sequence to normal forms:  \\n1NF is considered the weakest,  \\n2NF is stronger than 1NF,  \\n3NF is stronger than 2NF, and  \\nBCNF is considered the strongest  \\n \\nAlso,  \\nany relation that is in BCNF, is in 3NF;  \\nany relation in 3NF is in 2NF; and  \\nany relation in 2NF is in 1NF.  ', metadata={'source': 'FD.pdf', 'page': 1}),\n",
       " Document(page_content='Normalization  \\n91.2914  3 BCNF  3NF 2NF 1NF a relation in BCNF , is also \\nin 3NF  \\n \\na relation in 3NF is also in \\n2NF \\n \\na relation in 2NF is also in \\n1NF ', metadata={'source': 'FD.pdf', 'page': 2}),\n",
       " Document(page_content='Normalization  \\nMay 2005  91.2914  4 We consider a relation in BCNF to be fully normalized.  \\n \\nThe benefit of higher normal forms is that update semantics for \\nthe affected data are simplified.  \\n \\nThis means that applications required to maintain the database \\nare simpler.  \\n \\nA design that has a lower normal form than another design has \\nmore redundancy. Uncontrolled redundancy can lead to data \\nintegrity problems.  \\n \\nFirst we introduce the concept of functional dependency  ', metadata={'source': 'FD.pdf', 'page': 3}),\n",
       " Document(page_content='May 2012  91.2814  5 NORMALIZATION  is a database design technique that \\norganizes tables in a manner that reduces redundancy and \\ndependency of data. Normalization divides larger tables into \\nsmaller tables and links them using relationships. The \\npurpose of Normalization is to eliminate redundant \\n(useless) data and ensure data is stored logically.  ', metadata={'source': 'FD.pdf', 'page': 4}),\n",
       " Document(page_content='Functional Dependencies  \\n91.2914  6 Functional Dependencies  \\nWe say an attribute, B, has a functional dependency  on \\nanother attribute, A, if for any two records, which have  \\nthe same value for A, then the values for B in these two \\nrecords must be the same. We illustrate this as:  \\nA \\uf0e0 B \\nExample : Suppose we keep track of employee email \\naddresses, and we only track one email address for each \\nemployee. Suppose each employee is identified by their \\nunique employee number. We say there is a functional \\ndependency of email address on employee number:  \\n \\nemployee number  \\uf0e0 email address  ', metadata={'source': 'FD.pdf', 'page': 5}),\n",
       " Document(page_content='Functional Dependencies  \\n91.2914  7 EmpNum  EmpEmail  EmpFname  EmpLname  \\n123 jdoe@abc.com  John  Doe \\n456 psmith@abc.com  Peter  Smith  \\n555 alee1@abc.com  Alan  Lee \\n633 pdoe@abc.com  Peter  Doe \\n787 alee2@abc.com  Alan  Lee \\nIf EmpNum is the PK then the FDs:  \\n  EmpNum  \\uf0e0 EmpEmail  \\n  EmpNum \\uf0e0 EmpFname  \\n  EmpNum \\uf0e0 EmpLname  \\nmust exist.  ', metadata={'source': 'FD.pdf', 'page': 6}),\n",
       " Document(page_content='Functional Dependencies  \\n91.2914  8   EmpNum  \\uf0e0 EmpEmail  \\n  EmpNum \\uf0e0 EmpFname  \\n  EmpNum \\uf0e0 EmpLname  \\nEmpNum  EmpEmail  \\nEmpFname  \\nEmpLname  \\nEmpNum    EmpEmail    EmpFname     EmpLname  3 different ways \\nyou might see FDs \\ndepicted  ', metadata={'source': 'FD.pdf', 'page': 7}),\n",
       " Document(page_content='Determinant  \\n91.2914  9 Functional Dependency  \\n \\n EmpNum  \\uf0e0 EmpEmail  \\nAttribute on the LHS is known as the determinant  \\n• EmpNum is a determinant of EmpEmail  ', metadata={'source': 'FD.pdf', 'page': 8}),\n",
       " Document(page_content='Transitive dependency  \\n91.2914  10 Transitive dependency  \\nConsider attributes A, B, and C, and where  \\n A \\uf0e0 B and B \\uf0e0 C.  \\nFunctional dependencies are transitive, which \\nmeans that we also have the functional dependency \\n A \\uf0e0 C \\nWe say that C is transitively dependent on A \\nthrough B.  ', metadata={'source': 'FD.pdf', 'page': 9}),\n",
       " Document(page_content='Transitive dependency  \\n91.2914  11 EmpNum    EmpEmail     DeptNum       DeptNname  \\nEmpNum     EmpEmail     DeptNum       DeptNname  \\nDeptName is transitively dependent  on EmpNum via DeptNum  \\nEmpNum \\uf0e0 DeptN ame EmpNum \\uf0e0 DeptNum  \\nDeptNum \\uf0e0 DeptN ame ', metadata={'source': 'FD.pdf', 'page': 10}),\n",
       " Document(page_content='Partial dependency  \\n91.2914  12 A partial dependency  exists when an attribute B is \\nfunctionally dependent on an attribute A, and A is a \\ncomponent of a multipart candidate key.  \\nInvNum  LineNum  Qty InvDate  \\nCandidate keys: {InvNum, LineNum} InvDate is \\npartially dependent  on {InvNum, LineNum} as \\nInvNum is a determinant of InvDate and InvNum is \\npart of a candidate key  ', metadata={'source': 'FD.pdf', 'page': 11}),\n",
       " Document(page_content='First Normal Form  \\n91.2914  13 First Normal Form  \\nWe say a relation is in 1NF if all values stored in the \\nrelation are single -valued and atomic.  \\n \\n \\n1NF places restrictions on the structure of relations. \\nValues must be simple.  ', metadata={'source': 'FD.pdf', 'page': 12}),\n",
       " Document(page_content='First Normal Form  \\n91.2914  14 The following in not in 1NF  \\nEmpNum  EmpPhone  EmpDegrees  \\n123 233-9876  \\n333 233-1231  BA, BSc, PhD  \\n679 233-1231  BSc, MSc  \\nEmpDegrees is a multi -valued field:  \\nemployee 679 has two degrees: BSc and MSc  \\nemployee 333 has three degrees:  BA, BSc, PhD  ', metadata={'source': 'FD.pdf', 'page': 13}),\n",
       " Document(page_content='First Normal Form  \\n91.2914  15 To obtain 1NF relations we must, without loss of \\ninformation, replace the above with two relations - \\nsee next slide  EmpNum  EmpPhone  EmpDegrees  \\n123 233-9876  \\n333 233-1231  BA, BSc, PhD  \\n679 233-1231  BSc, MSc  ', metadata={'source': 'FD.pdf', 'page': 14}),\n",
       " Document(page_content='First Normal Form  \\n91.2914  16 EmpNum  EmpDegree  \\n333 BA \\n333 BSc \\n333 PhD \\n679 BSc \\nMSc  679 EmpNum  EmpPhone  \\n123 233-9876  \\n333 233-1231  \\n679 233-1231  \\nAn outer join between Employee and EmployeeDegree will \\nproduce the information we saw before  Employee  EmployeeDegree  ', metadata={'source': 'FD.pdf', 'page': 15}),\n",
       " Document(page_content='Boyce -Codd Normal Form  \\n91.2914  17 Boyce -Codd Normal Form  \\nBCNF is defined very simply:  \\na relation is in BCNF if it is in 1NF and if every \\ndeterminant is a candidate key.  \\nIf our database will be used for OLTP (on line transaction \\nprocessing), then BCNF is our target. Usually, we meet this \\nobjective. However, we might denormalize (3NF, 2NF, or \\n1NF) for performance reasons.  ', metadata={'source': 'FD.pdf', 'page': 16}),\n",
       " Document(page_content='Second Normal Form  \\n91.2914  18 Second Normal Form  \\nA relation is in 2NF if it is in 1NF, and every non -key attribute \\nis fully dependent on each candidate key. (That is, we don’t \\nhave any partial functional dependency.)  \\n \\n• 2NF (and 3NF) both involve the concepts of key and \\n non-key attributes.  \\n• A key attribute  is any attribute that is part of a key; \\n any attribute that is not a key attribute, is a non-key \\n attribute .  \\n• Relations that are not in BCNF have data redundancies  \\n• A relation in 2NF will not have any partial dependencies  ', metadata={'source': 'FD.pdf', 'page': 17}),\n",
       " Document(page_content='Second Normal Form  \\n91.2914  19 LineNum  ProdNum  Qty InvNum  \\nInvNum, LineNum  ProdNum, Qty  \\nSince there is a determinant that is not a \\ncandidate key, InvLine is not BCNF  \\nInvLine is not 2NF  since there is a partial \\ndependency of InvDate on InvNum  InvDate  \\nInvDate  InvNum  There are two \\ncandidate keys.  \\nQty is the only non -\\nkey attribute, and it is \\ndependent on InvNum  \\nInvLine is \\nonly in 1NF Consider this  InvLine table (in 1NF) : ', metadata={'source': 'FD.pdf', 'page': 18}),\n",
       " Document(page_content='Second Normal Form  \\n91.2914  20 LineNum  ProdNum  Qty InvNum  InvDate  InvLine  \\nThe above relation has redundancies: the invoice date is \\nrepeated on each invoice line.  \\nWe can improve  the database by decomposing the relation \\ninto two relations:  \\nLineNum  ProdNum  Qty InvNum  \\nInvDate  InvNum  \\nQuestion: What is the highest normal form for these \\nrelations? 2NF? 3NF? BCNF?  ', metadata={'source': 'FD.pdf', 'page': 19}),\n",
       " Document(page_content='91.2914  21 Is the following relation in 2NF?  \\ninv_no  line_no  prod_no  prod_desc  qty ', metadata={'source': 'FD.pdf', 'page': 20}),\n",
       " Document(page_content='91.2914  22 2NF, but not in 3NF, nor in BCNF:  \\nsince dnumber is not a candidate key and we have:  \\n \\n dnumber \\uf0ae dname.  EmployeeDept  \\nename  ssn bdate  address  dnumber  dname  ', metadata={'source': 'FD.pdf', 'page': 21}),\n",
       " Document(page_content='Third Normal Form  \\n91.2914  23 Third Normal Form  \\n•A relation is in 3NF if the relation is in 1NF and all \\ndeterminants of non-key attributes are candidate keys  \\n That is, for any functional dependency: X \\uf0ae Y , where Y is \\na non -key attribute (or a set of non -key attributes), X is a \\ncandidate key.  \\n•This definition of 3NF differs from BCNF only in the \\nspecification of non -key attributes - 3NF is weaker than \\nBCNF. (BCNF requires all determinants to be candidate \\nkeys.)  \\n•A relation in 3NF will not have any transitive dependencies  \\n of non -key attribute on a candidate key through another \\nnon-key attribute.  ', metadata={'source': 'FD.pdf', 'page': 22}),\n",
       " Document(page_content='Third Normal Form  \\n91.2914  24 EmpNum  EmpName  DeptNum  DeptName  \\nEmpName, DeptNum, and DeptName are non -key attributes.  \\nDeptNum determines DeptName, a non -key attribute, and \\nDeptNum is not a candidate key.  Consider this  Employee relation  \\nIs the relation in 3NF? … no  \\nIs the relation in 2NF? … yes  Is the relation in BCNF? … no  Candidate keys \\nare? …  ', metadata={'source': 'FD.pdf', 'page': 23}),\n",
       " Document(page_content='Third Normal Form  \\n91.2914  25 EmpNum  EmpName  DeptNum  DeptName  \\nWe correct the situation by decomposing the original relation \\ninto two 3NF relations. Note the decomposition is lossless . \\nEmpNum  EmpName  DeptNum  DeptName  DeptNum  \\nVerify these two relations are in 3NF.  ', metadata={'source': 'FD.pdf', 'page': 24}),\n",
       " Document(page_content='91.2914  26 student_no  course_no  instr_no  Instructor teaches one \\ncourse only.  \\nStudent takes a course \\nand has one instructor.  In  3NF, but not in BCNF:  \\n{student_no, course_no} \\uf0ae instr_no  \\ninstr_no \\uf0ae course_no  \\n \\nsince we have instr_no \\uf0ae course -no, but instr_no is not a  \\nCandidate key.  ', metadata={'source': 'FD.pdf', 'page': 25}),\n",
       " Document(page_content='91.2914  27 course_no  instr_no  student_no  instr_no  student_no  course_no  instr_no  \\n{student_no, instr_no} \\uf0ae student_no  \\n{student_no, instr_no} \\uf0ae instr_no  \\ninstr_no \\uf0ae course_no  ', metadata={'source': 'FD.pdf', 'page': 26})]"
      ]
     },
     "execution_count": 8,
     "metadata": {},
     "output_type": "execute_result"
    }
   ],
   "source": [
    "pdf_doc"
   ]
  },
  {
   "cell_type": "code",
   "execution_count": 9,
   "metadata": {},
   "outputs": [
    {
     "data": {
      "text/plain": [
       "27"
      ]
     },
     "execution_count": 9,
     "metadata": {},
     "output_type": "execute_result"
    }
   ],
   "source": [
    "len(pdf_doc)"
   ]
  },
  {
   "cell_type": "code",
   "execution_count": 10,
   "metadata": {},
   "outputs": [],
   "source": [
    "#Data Transformation\n",
    "from langchain.text_splitter import RecursiveCharacterTextSplitter\n",
    "text_splitter = RecursiveCharacterTextSplitter(chunk_size=100, chunk_overlap=10)\n",
    "documents = text_splitter.split_documents(pdf_doc)"
   ]
  },
  {
   "cell_type": "code",
   "execution_count": 11,
   "metadata": {},
   "outputs": [
    {
     "data": {
      "text/plain": [
       "[Document(page_content='Normalization  \\n91.2914  1 Normalization  \\nWe discuss four normal forms: first, second, third, and', metadata={'source': 'FD.pdf', 'page': 0}),\n",
       " Document(page_content='Boyce -Codd normal forms  \\n1NF, 2NF, 3NF, and BCNF', metadata={'source': 'FD.pdf', 'page': 0}),\n",
       " Document(page_content='Normalization  is a process that “improves” a database', metadata={'source': 'FD.pdf', 'page': 0}),\n",
       " Document(page_content='design by generating relations that are of higher normal \\nforms.', metadata={'source': 'FD.pdf', 'page': 0}),\n",
       " Document(page_content='The objective  of normalization:  \\n“to create relations where every dependency is on the key,', metadata={'source': 'FD.pdf', 'page': 0}),\n",
       " Document(page_content='the whole key, and nothing but the key ”.', metadata={'source': 'FD.pdf', 'page': 0}),\n",
       " Document(page_content='Normalization  \\n91.2914  2 There is a sequence to normal forms:  \\n1NF is considered the weakest,', metadata={'source': 'FD.pdf', 'page': 1}),\n",
       " Document(page_content='2NF is stronger than 1NF,  \\n3NF is stronger than 2NF, and  \\nBCNF is considered the strongest', metadata={'source': 'FD.pdf', 'page': 1}),\n",
       " Document(page_content='Also,  \\nany relation that is in BCNF, is in 3NF;  \\nany relation in 3NF is in 2NF; and', metadata={'source': 'FD.pdf', 'page': 1}),\n",
       " Document(page_content='any relation in 2NF is in 1NF.', metadata={'source': 'FD.pdf', 'page': 1}),\n",
       " Document(page_content='Normalization  \\n91.2914  3 BCNF  3NF 2NF 1NF a relation in BCNF , is also \\nin 3NF', metadata={'source': 'FD.pdf', 'page': 2}),\n",
       " Document(page_content='a relation in 3NF is also in \\n2NF \\n \\na relation in 2NF is also in \\n1NF', metadata={'source': 'FD.pdf', 'page': 2}),\n",
       " Document(page_content='Normalization  \\nMay 2005  91.2914  4 We consider a relation in BCNF to be fully normalized.', metadata={'source': 'FD.pdf', 'page': 3}),\n",
       " Document(page_content='The benefit of higher normal forms is that update semantics for', metadata={'source': 'FD.pdf', 'page': 3}),\n",
       " Document(page_content='the affected data are simplified.', metadata={'source': 'FD.pdf', 'page': 3}),\n",
       " Document(page_content='This means that applications required to maintain the database \\nare simpler.', metadata={'source': 'FD.pdf', 'page': 3}),\n",
       " Document(page_content='A design that has a lower normal form than another design has', metadata={'source': 'FD.pdf', 'page': 3}),\n",
       " Document(page_content='more redundancy. Uncontrolled redundancy can lead to data \\nintegrity problems.', metadata={'source': 'FD.pdf', 'page': 3}),\n",
       " Document(page_content='First we introduce the concept of functional dependency', metadata={'source': 'FD.pdf', 'page': 3}),\n",
       " Document(page_content='May 2012  91.2814  5 NORMALIZATION  is a database design technique that', metadata={'source': 'FD.pdf', 'page': 4}),\n",
       " Document(page_content='organizes tables in a manner that reduces redundancy and', metadata={'source': 'FD.pdf', 'page': 4}),\n",
       " Document(page_content='dependency of data. Normalization divides larger tables into', metadata={'source': 'FD.pdf', 'page': 4}),\n",
       " Document(page_content='smaller tables and links them using relationships. The', metadata={'source': 'FD.pdf', 'page': 4}),\n",
       " Document(page_content='purpose of Normalization is to eliminate redundant', metadata={'source': 'FD.pdf', 'page': 4}),\n",
       " Document(page_content='(useless) data and ensure data is stored logically.', metadata={'source': 'FD.pdf', 'page': 4}),\n",
       " Document(page_content='Functional Dependencies  \\n91.2914  6 Functional Dependencies', metadata={'source': 'FD.pdf', 'page': 5}),\n",
       " Document(page_content='We say an attribute, B, has a functional dependency  on', metadata={'source': 'FD.pdf', 'page': 5}),\n",
       " Document(page_content='another attribute, A, if for any two records, which have', metadata={'source': 'FD.pdf', 'page': 5}),\n",
       " Document(page_content='the same value for A, then the values for B in these two', metadata={'source': 'FD.pdf', 'page': 5}),\n",
       " Document(page_content='records must be the same. We illustrate this as:  \\nA \\uf0e0 B', metadata={'source': 'FD.pdf', 'page': 5}),\n",
       " Document(page_content='A \\uf0e0 B \\nExample : Suppose we keep track of employee email', metadata={'source': 'FD.pdf', 'page': 5}),\n",
       " Document(page_content='addresses, and we only track one email address for each', metadata={'source': 'FD.pdf', 'page': 5}),\n",
       " Document(page_content='employee. Suppose each employee is identified by their', metadata={'source': 'FD.pdf', 'page': 5}),\n",
       " Document(page_content='unique employee number. We say there is a functional', metadata={'source': 'FD.pdf', 'page': 5}),\n",
       " Document(page_content='dependency of email address on employee number:  \\n \\nemployee number  \\uf0e0 email address', metadata={'source': 'FD.pdf', 'page': 5}),\n",
       " Document(page_content='Functional Dependencies  \\n91.2914  7 EmpNum  EmpEmail  EmpFname  EmpLname', metadata={'source': 'FD.pdf', 'page': 6}),\n",
       " Document(page_content='123 jdoe@abc.com  John  Doe \\n456 psmith@abc.com  Peter  Smith  \\n555 alee1@abc.com  Alan  Lee', metadata={'source': 'FD.pdf', 'page': 6}),\n",
       " Document(page_content='633 pdoe@abc.com  Peter  Doe \\n787 alee2@abc.com  Alan  Lee \\nIf EmpNum is the PK then the FDs:', metadata={'source': 'FD.pdf', 'page': 6}),\n",
       " Document(page_content='EmpNum  \\uf0e0 EmpEmail  \\n  EmpNum \\uf0e0 EmpFname  \\n  EmpNum \\uf0e0 EmpLname  \\nmust exist.', metadata={'source': 'FD.pdf', 'page': 6}),\n",
       " Document(page_content='Functional Dependencies  \\n91.2914  8   EmpNum  \\uf0e0 EmpEmail  \\n  EmpNum \\uf0e0 EmpFname', metadata={'source': 'FD.pdf', 'page': 7}),\n",
       " Document(page_content='EmpNum \\uf0e0 EmpLname  \\nEmpNum  EmpEmail  \\nEmpFname  \\nEmpLname', metadata={'source': 'FD.pdf', 'page': 7}),\n",
       " Document(page_content='EmpNum    EmpEmail    EmpFname     EmpLname  3 different ways \\nyou might see FDs \\ndepicted', metadata={'source': 'FD.pdf', 'page': 7}),\n",
       " Document(page_content='Determinant  \\n91.2914  9 Functional Dependency  \\n \\n EmpNum  \\uf0e0 EmpEmail', metadata={'source': 'FD.pdf', 'page': 8}),\n",
       " Document(page_content='Attribute on the LHS is known as the determinant  \\n• EmpNum is a determinant of EmpEmail', metadata={'source': 'FD.pdf', 'page': 8}),\n",
       " Document(page_content='Transitive dependency  \\n91.2914  10 Transitive dependency', metadata={'source': 'FD.pdf', 'page': 9}),\n",
       " Document(page_content='Consider attributes A, B, and C, and where  \\n A \\uf0e0 B and B \\uf0e0 C.', metadata={'source': 'FD.pdf', 'page': 9}),\n",
       " Document(page_content='Functional dependencies are transitive, which \\nmeans that we also have the functional dependency', metadata={'source': 'FD.pdf', 'page': 9}),\n",
       " Document(page_content='A \\uf0e0 C \\nWe say that C is transitively dependent on A \\nthrough B.', metadata={'source': 'FD.pdf', 'page': 9}),\n",
       " Document(page_content='Transitive dependency  \\n91.2914  11 EmpNum    EmpEmail     DeptNum       DeptNname', metadata={'source': 'FD.pdf', 'page': 10}),\n",
       " Document(page_content='EmpNum     EmpEmail     DeptNum       DeptNname', metadata={'source': 'FD.pdf', 'page': 10}),\n",
       " Document(page_content='DeptName is transitively dependent  on EmpNum via DeptNum  \\nEmpNum \\uf0e0 DeptN ame EmpNum \\uf0e0 DeptNum', metadata={'source': 'FD.pdf', 'page': 10}),\n",
       " Document(page_content='DeptNum \\uf0e0 DeptN ame', metadata={'source': 'FD.pdf', 'page': 10}),\n",
       " Document(page_content='Partial dependency  \\n91.2914  12 A partial dependency  exists when an attribute B is', metadata={'source': 'FD.pdf', 'page': 11}),\n",
       " Document(page_content='functionally dependent on an attribute A, and A is a \\ncomponent of a multipart candidate key.', metadata={'source': 'FD.pdf', 'page': 11}),\n",
       " Document(page_content='InvNum  LineNum  Qty InvDate  \\nCandidate keys: {InvNum, LineNum} InvDate is', metadata={'source': 'FD.pdf', 'page': 11}),\n",
       " Document(page_content='partially dependent  on {InvNum, LineNum} as \\nInvNum is a determinant of InvDate and InvNum is', metadata={'source': 'FD.pdf', 'page': 11}),\n",
       " Document(page_content='part of a candidate key', metadata={'source': 'FD.pdf', 'page': 11}),\n",
       " Document(page_content='First Normal Form  \\n91.2914  13 First Normal Form', metadata={'source': 'FD.pdf', 'page': 12}),\n",
       " Document(page_content='We say a relation is in 1NF if all values stored in the \\nrelation are single -valued and atomic.', metadata={'source': 'FD.pdf', 'page': 12}),\n",
       " Document(page_content='1NF places restrictions on the structure of relations. \\nValues must be simple.', metadata={'source': 'FD.pdf', 'page': 12}),\n",
       " Document(page_content='First Normal Form  \\n91.2914  14 The following in not in 1NF  \\nEmpNum  EmpPhone  EmpDegrees', metadata={'source': 'FD.pdf', 'page': 13}),\n",
       " Document(page_content='123 233-9876  \\n333 233-1231  BA, BSc, PhD  \\n679 233-1231  BSc, MSc', metadata={'source': 'FD.pdf', 'page': 13}),\n",
       " Document(page_content='EmpDegrees is a multi -valued field:  \\nemployee 679 has two degrees: BSc and MSc', metadata={'source': 'FD.pdf', 'page': 13}),\n",
       " Document(page_content='employee 333 has three degrees:  BA, BSc, PhD', metadata={'source': 'FD.pdf', 'page': 13}),\n",
       " Document(page_content='First Normal Form  \\n91.2914  15 To obtain 1NF relations we must, without loss of', metadata={'source': 'FD.pdf', 'page': 14}),\n",
       " Document(page_content='information, replace the above with two relations - \\nsee next slide  EmpNum  EmpPhone  EmpDegrees', metadata={'source': 'FD.pdf', 'page': 14}),\n",
       " Document(page_content='123 233-9876  \\n333 233-1231  BA, BSc, PhD  \\n679 233-1231  BSc, MSc', metadata={'source': 'FD.pdf', 'page': 14}),\n",
       " Document(page_content='First Normal Form  \\n91.2914  16 EmpNum  EmpDegree  \\n333 BA \\n333 BSc \\n333 PhD \\n679 BSc', metadata={'source': 'FD.pdf', 'page': 15}),\n",
       " Document(page_content='679 BSc \\nMSc  679 EmpNum  EmpPhone  \\n123 233-9876  \\n333 233-1231  \\n679 233-1231', metadata={'source': 'FD.pdf', 'page': 15}),\n",
       " Document(page_content='An outer join between Employee and EmployeeDegree will', metadata={'source': 'FD.pdf', 'page': 15}),\n",
       " Document(page_content='produce the information we saw before  Employee  EmployeeDegree', metadata={'source': 'FD.pdf', 'page': 15}),\n",
       " Document(page_content='Boyce -Codd Normal Form  \\n91.2914  17 Boyce -Codd Normal Form  \\nBCNF is defined very simply:', metadata={'source': 'FD.pdf', 'page': 16}),\n",
       " Document(page_content='a relation is in BCNF if it is in 1NF and if every \\ndeterminant is a candidate key.', metadata={'source': 'FD.pdf', 'page': 16}),\n",
       " Document(page_content='If our database will be used for OLTP (on line transaction', metadata={'source': 'FD.pdf', 'page': 16}),\n",
       " Document(page_content='processing), then BCNF is our target. Usually, we meet this', metadata={'source': 'FD.pdf', 'page': 16}),\n",
       " Document(page_content='objective. However, we might denormalize (3NF, 2NF, or \\n1NF) for performance reasons.', metadata={'source': 'FD.pdf', 'page': 16}),\n",
       " Document(page_content='Second Normal Form  \\n91.2914  18 Second Normal Form', metadata={'source': 'FD.pdf', 'page': 17}),\n",
       " Document(page_content='A relation is in 2NF if it is in 1NF, and every non -key attribute', metadata={'source': 'FD.pdf', 'page': 17}),\n",
       " Document(page_content='is fully dependent on each candidate key. (That is, we don’t', metadata={'source': 'FD.pdf', 'page': 17}),\n",
       " Document(page_content='have any partial functional dependency.)  \\n \\n• 2NF (and 3NF) both involve the concepts of key and', metadata={'source': 'FD.pdf', 'page': 17}),\n",
       " Document(page_content='non-key attributes.  \\n• A key attribute  is any attribute that is part of a key;', metadata={'source': 'FD.pdf', 'page': 17}),\n",
       " Document(page_content='any attribute that is not a key attribute, is a non-key \\n attribute .', metadata={'source': 'FD.pdf', 'page': 17}),\n",
       " Document(page_content='• Relations that are not in BCNF have data redundancies', metadata={'source': 'FD.pdf', 'page': 17}),\n",
       " Document(page_content='• A relation in 2NF will not have any partial dependencies', metadata={'source': 'FD.pdf', 'page': 17}),\n",
       " Document(page_content='Second Normal Form  \\n91.2914  19 LineNum  ProdNum  Qty InvNum  \\nInvNum, LineNum  ProdNum, Qty', metadata={'source': 'FD.pdf', 'page': 18}),\n",
       " Document(page_content='Since there is a determinant that is not a \\ncandidate key, InvLine is not BCNF', metadata={'source': 'FD.pdf', 'page': 18}),\n",
       " Document(page_content='InvLine is not 2NF  since there is a partial \\ndependency of InvDate on InvNum  InvDate', metadata={'source': 'FD.pdf', 'page': 18}),\n",
       " Document(page_content='InvDate  InvNum  There are two \\ncandidate keys.  \\nQty is the only non -\\nkey attribute, and it is', metadata={'source': 'FD.pdf', 'page': 18}),\n",
       " Document(page_content='dependent on InvNum  \\nInvLine is \\nonly in 1NF Consider this  InvLine table (in 1NF) :', metadata={'source': 'FD.pdf', 'page': 18}),\n",
       " Document(page_content='Second Normal Form  \\n91.2914  20 LineNum  ProdNum  Qty InvNum  InvDate  InvLine', metadata={'source': 'FD.pdf', 'page': 19}),\n",
       " Document(page_content='The above relation has redundancies: the invoice date is \\nrepeated on each invoice line.', metadata={'source': 'FD.pdf', 'page': 19}),\n",
       " Document(page_content='We can improve  the database by decomposing the relation \\ninto two relations:', metadata={'source': 'FD.pdf', 'page': 19}),\n",
       " Document(page_content='LineNum  ProdNum  Qty InvNum  \\nInvDate  InvNum', metadata={'source': 'FD.pdf', 'page': 19}),\n",
       " Document(page_content='Question: What is the highest normal form for these \\nrelations? 2NF? 3NF? BCNF?', metadata={'source': 'FD.pdf', 'page': 19}),\n",
       " Document(page_content='91.2914  21 Is the following relation in 2NF?  \\ninv_no  line_no  prod_no  prod_desc  qty', metadata={'source': 'FD.pdf', 'page': 20}),\n",
       " Document(page_content='91.2914  22 2NF, but not in 3NF, nor in BCNF:  \\nsince dnumber is not a candidate key and we have:', metadata={'source': 'FD.pdf', 'page': 21}),\n",
       " Document(page_content='dnumber \\uf0ae dname.  EmployeeDept  \\nename  ssn bdate  address  dnumber  dname', metadata={'source': 'FD.pdf', 'page': 21}),\n",
       " Document(page_content='Third Normal Form  \\n91.2914  23 Third Normal Form', metadata={'source': 'FD.pdf', 'page': 22}),\n",
       " Document(page_content='•A relation is in 3NF if the relation is in 1NF and all', metadata={'source': 'FD.pdf', 'page': 22}),\n",
       " Document(page_content='determinants of non-key attributes are candidate keys', metadata={'source': 'FD.pdf', 'page': 22}),\n",
       " Document(page_content='That is, for any functional dependency: X \\uf0ae Y , where Y is', metadata={'source': 'FD.pdf', 'page': 22}),\n",
       " Document(page_content='a non -key attribute (or a set of non -key attributes), X is a \\ncandidate key.', metadata={'source': 'FD.pdf', 'page': 22}),\n",
       " Document(page_content='•This definition of 3NF differs from BCNF only in the', metadata={'source': 'FD.pdf', 'page': 22}),\n",
       " Document(page_content='specification of non -key attributes - 3NF is weaker than', metadata={'source': 'FD.pdf', 'page': 22}),\n",
       " Document(page_content='BCNF. (BCNF requires all determinants to be candidate \\nkeys.)', metadata={'source': 'FD.pdf', 'page': 22}),\n",
       " Document(page_content='keys.)  \\n•A relation in 3NF will not have any transitive dependencies', metadata={'source': 'FD.pdf', 'page': 22}),\n",
       " Document(page_content='of non -key attribute on a candidate key through another \\nnon-key attribute.', metadata={'source': 'FD.pdf', 'page': 22}),\n",
       " Document(page_content='Third Normal Form  \\n91.2914  24 EmpNum  EmpName  DeptNum  DeptName', metadata={'source': 'FD.pdf', 'page': 23}),\n",
       " Document(page_content='EmpName, DeptNum, and DeptName are non -key attributes.', metadata={'source': 'FD.pdf', 'page': 23}),\n",
       " Document(page_content='DeptNum determines DeptName, a non -key attribute, and', metadata={'source': 'FD.pdf', 'page': 23}),\n",
       " Document(page_content='DeptNum is not a candidate key.  Consider this  Employee relation  \\nIs the relation in 3NF? … no', metadata={'source': 'FD.pdf', 'page': 23}),\n",
       " Document(page_content='Is the relation in 2NF? … yes  Is the relation in BCNF? … no  Candidate keys \\nare? …', metadata={'source': 'FD.pdf', 'page': 23}),\n",
       " Document(page_content='Third Normal Form  \\n91.2914  25 EmpNum  EmpName  DeptNum  DeptName', metadata={'source': 'FD.pdf', 'page': 24}),\n",
       " Document(page_content='We correct the situation by decomposing the original relation', metadata={'source': 'FD.pdf', 'page': 24}),\n",
       " Document(page_content='into two 3NF relations. Note the decomposition is lossless .', metadata={'source': 'FD.pdf', 'page': 24}),\n",
       " Document(page_content='EmpNum  EmpName  DeptNum  DeptName  DeptNum  \\nVerify these two relations are in 3NF.', metadata={'source': 'FD.pdf', 'page': 24}),\n",
       " Document(page_content='91.2914  26 student_no  course_no  instr_no  Instructor teaches one \\ncourse only.', metadata={'source': 'FD.pdf', 'page': 25}),\n",
       " Document(page_content='Student takes a course \\nand has one instructor.  In  3NF, but not in BCNF:', metadata={'source': 'FD.pdf', 'page': 25}),\n",
       " Document(page_content='{student_no, course_no} \\uf0ae instr_no  \\ninstr_no \\uf0ae course_no', metadata={'source': 'FD.pdf', 'page': 25}),\n",
       " Document(page_content='since we have instr_no \\uf0ae course -no, but instr_no is not a  \\nCandidate key.', metadata={'source': 'FD.pdf', 'page': 25}),\n",
       " Document(page_content='91.2914  27 course_no  instr_no  student_no  instr_no  student_no  course_no  instr_no', metadata={'source': 'FD.pdf', 'page': 26}),\n",
       " Document(page_content='{student_no, instr_no} \\uf0ae student_no  \\n{student_no, instr_no} \\uf0ae instr_no  \\ninstr_no \\uf0ae course_no', metadata={'source': 'FD.pdf', 'page': 26})]"
      ]
     },
     "execution_count": 11,
     "metadata": {},
     "output_type": "execute_result"
    }
   ],
   "source": [
    "documents"
   ]
  },
  {
   "cell_type": "code",
   "execution_count": 12,
   "metadata": {},
   "outputs": [
    {
     "data": {
      "text/plain": [
       "122"
      ]
     },
     "execution_count": 12,
     "metadata": {},
     "output_type": "execute_result"
    }
   ],
   "source": [
    "len(documents)"
   ]
  },
  {
   "cell_type": "code",
   "execution_count": 13,
   "metadata": {},
   "outputs": [],
   "source": [
    "#Vector Embedding and Vector Storage\n",
    "from langchain_community.embeddings import OllamaEmbeddings\n",
    "from langchain_community.vectorstores import Chroma"
   ]
  },
  {
   "cell_type": "code",
   "execution_count": 14,
   "metadata": {},
   "outputs": [],
   "source": [
    "db = Chroma.from_documents(documents, OllamaEmbeddings(model=\"llama2\"))"
   ]
  },
  {
   "cell_type": "code",
   "execution_count": 15,
   "metadata": {},
   "outputs": [
    {
     "data": {
      "text/plain": [
       "[Document(page_content='May 2012  91.2814  5 NORMALIZATION  is a database design technique that', metadata={'page': 4, 'source': 'FD.pdf'}),\n",
       " Document(page_content='organizes tables in a manner that reduces redundancy and', metadata={'page': 4, 'source': 'FD.pdf'}),\n",
       " Document(page_content='Transitive dependency  \\n91.2914  10 Transitive dependency', metadata={'page': 9, 'source': 'FD.pdf'}),\n",
       " Document(page_content='Second Normal Form  \\n91.2914  18 Second Normal Form', metadata={'page': 17, 'source': 'FD.pdf'})]"
      ]
     },
     "execution_count": 15,
     "metadata": {},
     "output_type": "execute_result"
    }
   ],
   "source": [
    "query = \"Normalization is a process that\"\n",
    "db.similarity_search(query)"
   ]
  },
  {
   "cell_type": "code",
   "execution_count": 16,
   "metadata": {},
   "outputs": [],
   "source": [
    "from langchain_community.llms import Ollama"
   ]
  },
  {
   "cell_type": "code",
   "execution_count": 17,
   "metadata": {},
   "outputs": [],
   "source": [
    "llm_model = Ollama(model='llama2')"
   ]
  },
  {
   "cell_type": "code",
   "execution_count": 18,
   "metadata": {},
   "outputs": [],
   "source": [
    "#Design ChatPrompt Template\n",
    "from langchain_core.prompts import ChatPromptTemplate\n",
    "prompt = ChatPromptTemplate.from_template(\"Answer the following question based only on the provided context. Think step by step before providing a detailed answer. I will tip you $1000 if the user finds the answer useful. <context>{context}</context> Question: {input}\")\n"
   ]
  },
  {
   "cell_type": "code",
   "execution_count": 19,
   "metadata": {},
   "outputs": [],
   "source": [
    "#chain stuff\n",
    "from langchain.chains.combine_documents import create_stuff_documents_chain\n",
    "doc_chain = create_stuff_documents_chain(llm_model, prompt)"
   ]
  },
  {
   "cell_type": "code",
   "execution_count": 20,
   "metadata": {},
   "outputs": [
    {
     "data": {
      "text/plain": [
       "VectorStoreRetriever(tags=['Chroma', 'OllamaEmbeddings'], vectorstore=<langchain_community.vectorstores.chroma.Chroma object at 0x000001E4CDC476E0>)"
      ]
     },
     "execution_count": 20,
     "metadata": {},
     "output_type": "execute_result"
    }
   ],
   "source": [
    "retriever = db.as_retriever()\n",
    "retriever"
   ]
  },
  {
   "cell_type": "code",
   "execution_count": 21,
   "metadata": {},
   "outputs": [],
   "source": [
    "from langchain.chains import create_retrieval_chain\n",
    "retrieval_chain = create_retrieval_chain(retriever, doc_chain)"
   ]
  },
  {
   "cell_type": "code",
   "execution_count": 22,
   "metadata": {},
   "outputs": [
    {
     "data": {
      "text/plain": [
       "{'input': 'BCNF is considered the strongest',\n",
       " 'context': [Document(page_content='2NF is stronger than 1NF,  \\n3NF is stronger than 2NF, and  \\nBCNF is considered the strongest', metadata={'page': 1, 'source': 'FD.pdf'}),\n",
       "  Document(page_content='•This definition of 3NF differs from BCNF only in the', metadata={'page': 22, 'source': 'FD.pdf'}),\n",
       "  Document(page_content='specification of non -key attributes - 3NF is weaker than', metadata={'page': 22, 'source': 'FD.pdf'}),\n",
       "  Document(page_content='Since there is a determinant that is not a \\ncandidate key, InvLine is not BCNF', metadata={'page': 18, 'source': 'FD.pdf'})],\n",
       " 'answer': \"Great, thank you for providing the context! To answer your question, let's break it down step by step:\\n\\n1. 2NF is stronger than 1NF because:\\n\\t* 1NF allows duplication of non-key attributes, while 2NF does not allow it.\\n\\t* In 2NF, each non-key attribute must have a unique value for each row in the table.\\n2. 3NF is stronger than 2NF because:\\n\\t* 3NF allows duplication of non-key attributes only if they are functionally dependent on the primary key.\\n\\t* In 3NF, each non-key attribute must have a unique value for each row in the table, and there must be no redundancy of non-key attributes.\\n3. BCNF is considered the strongest because:\\n\\t* BCNF allows duplication of non-key attributes only if they are functionally dependent on the primary key and at least one non-key attribute is a candidate key.\\n\\t* In BCNF, each non-key attribute must have a unique value for each row in the table, and there must be no redundancy of non-key attributes.\\n\\nNow, let's apply these rules to the given context:\\n\\n•This definition of 3NF differs from BCNF only in the specification of non-key attributes - 3NF is weaker than BCNF.\\n\\nSince there is a determinant that is not a candidate key, InvLine is not in BCNF.\\n\\nTherefore, the answer to your question is: BCNF is considered the strongest.\"}"
      ]
     },
     "execution_count": 22,
     "metadata": {},
     "output_type": "execute_result"
    }
   ],
   "source": [
    "retrieval_chain.invoke({'input' : \"BCNF is considered the strongest\"})"
   ]
  },
  {
   "cell_type": "code",
   "execution_count": null,
   "metadata": {},
   "outputs": [],
   "source": []
  }
 ],
 "metadata": {
  "kernelspec": {
   "display_name": "venv",
   "language": "python",
   "name": "python3"
  },
  "language_info": {
   "codemirror_mode": {
    "name": "ipython",
    "version": 3
   },
   "file_extension": ".py",
   "mimetype": "text/x-python",
   "name": "python",
   "nbconvert_exporter": "python",
   "pygments_lexer": "ipython3",
   "version": "3.12.3"
  }
 },
 "nbformat": 4,
 "nbformat_minor": 2
}
